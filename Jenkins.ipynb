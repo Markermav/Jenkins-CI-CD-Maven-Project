{
  "nbformat": 4,
  "nbformat_minor": 0,
  "metadata": {
    "colab": {
      "provenance": []
    },
    "kernelspec": {
      "name": "python3",
      "display_name": "Python 3"
    },
    "language_info": {
      "name": "python"
    }
  },
  "cells": [
    {
      "cell_type": "markdown",
      "source": [
        "# Jenkins building a basic end-end CI/CD pipeline of a maven project."
      ],
      "metadata": {
        "id": "RMkFrgfljciN"
      }
    },
    {
      "cell_type": "markdown",
      "source": [
        "\n",
        "\n",
        "1.   Jenkins is could be spinned up on a Virtual Machine or directy install it on pc or mac.\n",
        "2.   Installing SonarQube you can set it up directly on host or a docker container.\n",
        "\n",
        "**Plugins required:** jdk, SonarQube, OWASP, Docker Related\n",
        "\n"
      ],
      "metadata": {
        "id": "rArdAqHCjqPO"
      }
    },
    {
      "cell_type": "code",
      "source": [
        "docker run -d -p 9000:9000 sonarqube:lts-community"
      ],
      "metadata": {
        "id": "X9vNS3GEkOGg"
      },
      "execution_count": null,
      "outputs": []
    },
    {
      "cell_type": "code",
      "source": [
        "# Check if the sonarqube conatiner is up and running\n",
        "docker ps\n"
      ],
      "metadata": {
        "id": "_P7FTCqSkVUn"
      },
      "execution_count": null,
      "outputs": []
    },
    {
      "cell_type": "markdown",
      "source": [
        "It is crucial when you spin up the below script it should have sonarqube running or the build will fail.\n",
        "\n",
        "\n",
        "Write a build pipeline\n",
        "take a base hello world template\n",
        "1. Git chekcout\n",
        "2. Then configuring jd, sonarscanner, maven.\n",
        "3. Basically whatever plugin we install we have to configure it at Dashboard > Manage Jenkins > Global Tool Configuration\n",
        "4. So going ahead configure plugins like OWASP, Docker etc.\n",
        "\n"
      ],
      "metadata": {
        "id": "ilGBDn4QkE1A"
      }
    },
    {
      "cell_type": "markdown",
      "source": [
        "**The question here arises do we have to remember the script which is used for checkout and lot of other places answer is no:**\n",
        "1. Click on pipeline syantax on configure window or Go to Dashboard > CI_Pipeline > Pipeline Syntax\n",
        "2. Navigate in page to generate pipeline script\n",
        "3. Select a sample step like in this case git and generate the script.\n",
        "4. for docker build image and push we are generatin withDockerregistry Sample Step."
      ],
      "metadata": {
        "id": "YcqFxhxMmEmb"
      }
    },
    {
      "cell_type": "code",
      "execution_count": null,
      "metadata": {
        "id": "mYExpcu8jVbL"
      },
      "outputs": [],
      "source": [
        "pipeline {\n",
        "    agent any\n",
        "\n",
        "    tools {\n",
        "        jdk 'jdk11'\n",
        "        maven 'maven3'\n",
        "\n",
        "    }\n",
        "\n",
        "    environment {\n",
        "        SCANNER_HOME= tool 'sonar-scanner'\n",
        "    }\n",
        "\n",
        "    stages {\n",
        "        stage('Git Checkout') {\n",
        "            steps {\n",
        "               git branch: 'main', url: 'https://github.com/jaiswaladi246/Ekart.git'\n",
        "            }\n",
        "        }\n",
        "\n",
        "        stage('Compile Source code') {\n",
        "            steps {\n",
        "               sh \"mvn clean compile\"\n",
        "\n",
        "            }\n",
        "        }\n",
        "\n",
        "        stage('Sonarqube Analysis') {\n",
        "            steps {\n",
        "            sh '''\n",
        "            $SCANNER_HOME/bin/sonar-scanner \\\n",
        "            -Dsonar.host.url=http://172.105.17:9000/ \\\n",
        "            -Dsonar.login=squ_9e347cf4e7aacbd54cf6902bac23449b2b49bced \\\n",
        "            -Dsonar.projectName=ekart \\\n",
        "            -Dsonar.java.binaries=. \\\n",
        "            -Dsonar.projectKey=ekart\n",
        "        '''\n",
        "\n",
        "            }\n",
        "        }\n",
        "\n",
        "        stage('OWASP') {\n",
        "            steps {\n",
        "               dependencyCheck additionalArguments: ' --scan ./', odcInstallation: 'DP'\n",
        "               dependencyCheckPublisher pattern: '**/dpendency-check-report.xml'\n",
        "            }\n",
        "        }\n",
        "\n",
        "        stage('Build App') {\n",
        "            steps {\n",
        "               sh \"mvn clean install -DskipTests\"\n",
        "            }\n",
        "        }\n",
        "\n",
        "          stage('This is to trigger the CD') {\n",
        "            steps {\n",
        "               build job: \"name of the Cd job\", wait: true\n",
        "\n",
        "            }\n",
        "        }\n",
        "    }\n",
        "}\n"
      ]
    },
    {
      "cell_type": "markdown",
      "source": [
        "Now create a separate pipeline which will be your Continious Deployment Pipeline\n"
      ],
      "metadata": {
        "id": "2qHHVX6Ao6wC"
      }
    },
    {
      "cell_type": "code",
      "source": [
        "pipeline {\n",
        "    agent any\n",
        "\n",
        "    stages {\n",
        "        stage('Docker Deploy to container') {\n",
        "            steps {\n",
        "                withDockerRegistry (credentialsId: 'credential will be geenrated by pipeline syntax when we will add auth creds', toolName: 'docker') {\n",
        "                    sh \"docker run -d --name <container name> -p 8070:8070 <image name>\"\n",
        "                }\n",
        "            }\n",
        "        }\n",
        "    }\n",
        "}\n"
      ],
      "metadata": {
        "id": "lLTsZciEsKEh"
      },
      "execution_count": null,
      "outputs": []
    },
    {
      "cell_type": "markdown",
      "source": [
        "If any issue arises regarding credentials, those can always be updated under manage jenkins > credentials."
      ],
      "metadata": {
        "id": "7CD6z6HJsR54"
      }
    },
    {
      "cell_type": "markdown",
      "source": [
        "# Great your first Maven CI/CD is ready!"
      ],
      "metadata": {
        "id": "DrtxaCL-tdQK"
      }
    }
  ]
}